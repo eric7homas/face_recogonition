{
 "cells": [
  {
   "cell_type": "code",
   "execution_count": 1,
   "metadata": {},
   "outputs": [],
   "source": [
    "import cv2"
   ]
  },
  {
   "cell_type": "code",
   "execution_count": 2,
   "metadata": {},
   "outputs": [],
   "source": [
    "def name_map(x):\n",
    "    if x=='sachin':\n",
    "        return 0\n",
    "    if x=='obama':\n",
    "        return 1\n",
    "    if x=='messi':\n",
    "        return 2"
   ]
  },
  {
   "cell_type": "code",
   "execution_count": 3,
   "metadata": {},
   "outputs": [],
   "source": [
    "def get_name(x):\n",
    "    if x==0:\n",
    "        return 'sachin'\n",
    "    if x==1:\n",
    "        return 'obama'\n",
    "    if x==2:\n",
    "        return 'messi'"
   ]
  },
  {
   "cell_type": "code",
   "execution_count": 4,
   "metadata": {},
   "outputs": [],
   "source": [
    "def detect_face(img):\n",
    "    gray=cv2.cvtColor(img,cv2.COLOR_BGR2GRAY)\n",
    "    face_cascade=cv2.CascadeClassifier(r'D:\\DL_Projects\\face_recognition\\haarcascade_frontalface_default.xml')\n",
    "    face=face_cascade.detectMultiScale(gray,minNeighbors=4)\n",
    "    if len(face)==0:\n",
    "        return None,None\n",
    "    x,y,w,h=face[0]\n",
    "    return gray[x:x+w,y:y+h],face[0]"
   ]
  },
  {
   "cell_type": "code",
   "execution_count": 5,
   "metadata": {},
   "outputs": [],
   "source": [
    "import os"
   ]
  },
  {
   "cell_type": "code",
   "execution_count": 6,
   "metadata": {},
   "outputs": [],
   "source": [
    "def prepare_training_data(data_folder):\n",
    "    dirs=os.listdir(data_folder)\n",
    "    print(dirs)\n",
    "    faces=[]\n",
    "    labels=[]\n",
    "    for dir_name in dirs:\n",
    "        sub_dir=data_folder+'/'+dir_name\n",
    "        images=os.listdir(sub_dir)\n",
    "        #print(images) \n",
    "        for img in images:\n",
    "            imgpath=sub_dir+'/'+img\n",
    "            #print(imgpath) \n",
    "            image=cv2.imread(imgpath)\n",
    "            cv2.imshow('training images',image) \n",
    "            cv2.waitKey(500)\n",
    "            \n",
    "            #detect face\n",
    "            face,rect=detect_face(image)\n",
    "            if face is not None:\n",
    "                faces.append(face)\n",
    "                labels.append(name_map(dir_name))\n",
    "                # print(labels) \n",
    "\n",
    "    cv2.waitKey(1)\n",
    "    cv2.destroyAllWindows()\n",
    "    return faces,labels"
   ]
  },
  {
   "cell_type": "code",
   "execution_count": 7,
   "metadata": {},
   "outputs": [
    {
     "name": "stdout",
     "output_type": "stream",
     "text": [
      "['messi', 'obama', 'sachin']\n",
      "[2, 2, 2, 2, 2, 2, 2, 2, 2, 2, 1, 1, 1, 1, 1, 1, 1, 1, 1, 1, 0, 0, 0, 0, 0, 0, 0, 0, 0]\n"
     ]
    }
   ],
   "source": [
    "faces,labels=prepare_training_data(r'D:\\DL_Projects\\face_recognition\\db')\n",
    "print(labels)"
   ]
  },
  {
   "cell_type": "code",
   "execution_count": 8,
   "metadata": {},
   "outputs": [
    {
     "data": {
      "text/plain": [
       "29"
      ]
     },
     "execution_count": 8,
     "metadata": {},
     "output_type": "execute_result"
    }
   ],
   "source": [
    "len(labels)"
   ]
  },
  {
   "cell_type": "code",
   "execution_count": 9,
   "metadata": {},
   "outputs": [
    {
     "data": {
      "text/plain": [
       "< cv2.face.LBPHFaceRecognizer 000001DB69C6F210>"
      ]
     },
     "execution_count": 9,
     "metadata": {},
     "output_type": "execute_result"
    }
   ],
   "source": [
    "re=cv2.face.LBPHFaceRecognizer_create()\n",
    "re"
   ]
  },
  {
   "cell_type": "code",
   "execution_count": 10,
   "metadata": {},
   "outputs": [],
   "source": [
    "import numpy as np"
   ]
  },
  {
   "cell_type": "code",
   "execution_count": 11,
   "metadata": {},
   "outputs": [],
   "source": [
    "re.train(faces,np.array(labels))"
   ]
  },
  {
   "cell_type": "code",
   "execution_count": 12,
   "metadata": {},
   "outputs": [],
   "source": [
    "def draw_rectangle(img,rect):\n",
    "    (x,y,w,h)=rect\n",
    "    cv2.rectangle(img,(x,y),(x+w,y+h),(0,0,0),2)"
   ]
  },
  {
   "cell_type": "code",
   "execution_count": 13,
   "metadata": {},
   "outputs": [],
   "source": [
    "def write_text(img,text,x,y):\n",
    "    cv2.putText(img,text,(x,y),cv2.FONT_HERSHEY_COMPLEX,1,(0,0,255),2)"
   ]
  },
  {
   "cell_type": "code",
   "execution_count": 14,
   "metadata": {},
   "outputs": [],
   "source": [
    "def predict_new(test_img):\n",
    "    img=test_img.copy()\n",
    "    face,rect=detect_face(test_img)\n",
    "    label=re.predict(face)\n",
    "    label_text=get_name(label[10])\n",
    "    print(label_text)\n",
    "    draw_rectangle(img,rect)\n",
    "    write_text(img,label_text,rect[10],rect[1])\n",
    "    return img"
   ]
  },
  {
   "cell_type": "code",
   "execution_count": 15,
   "metadata": {},
   "outputs": [
    {
     "ename": "IndexError",
     "evalue": "tuple index out of range",
     "output_type": "error",
     "traceback": [
      "\u001b[1;31m---------------------------------------------------------------------------\u001b[0m",
      "\u001b[1;31mIndexError\u001b[0m                                Traceback (most recent call last)",
      "Cell \u001b[1;32mIn[15], line 2\u001b[0m\n\u001b[0;32m      1\u001b[0m test_img\u001b[38;5;241m=\u001b[39mcv2\u001b[38;5;241m.\u001b[39mimread(\u001b[38;5;124mr\u001b[39m\u001b[38;5;124m'\u001b[39m\u001b[38;5;124mD:\u001b[39m\u001b[38;5;124m\\\u001b[39m\u001b[38;5;124mDL_Projects\u001b[39m\u001b[38;5;124m\\\u001b[39m\u001b[38;5;124mface_recognition\u001b[39m\u001b[38;5;124m\\\u001b[39m\u001b[38;5;124mmessi.jpg\u001b[39m\u001b[38;5;124m'\u001b[39m)\n\u001b[1;32m----> 2\u001b[0m predicted\u001b[38;5;241m=\u001b[39m\u001b[43mpredict_new\u001b[49m\u001b[43m(\u001b[49m\u001b[43mtest_img\u001b[49m\u001b[43m)\u001b[49m\n\u001b[0;32m      3\u001b[0m cv2\u001b[38;5;241m.\u001b[39mimshow(\u001b[38;5;124m\"\u001b[39m\u001b[38;5;124mIMAGE\u001b[39m\u001b[38;5;124m\"\u001b[39m,predicted)\n\u001b[0;32m      4\u001b[0m cv2\u001b[38;5;241m.\u001b[39mwaitKey()\n",
      "Cell \u001b[1;32mIn[14], line 5\u001b[0m, in \u001b[0;36mpredict_new\u001b[1;34m(test_img)\u001b[0m\n\u001b[0;32m      3\u001b[0m face,rect\u001b[38;5;241m=\u001b[39mdetect_face(test_img)\n\u001b[0;32m      4\u001b[0m label\u001b[38;5;241m=\u001b[39mre\u001b[38;5;241m.\u001b[39mpredict(face)\n\u001b[1;32m----> 5\u001b[0m label_text\u001b[38;5;241m=\u001b[39mget_name(\u001b[43mlabel\u001b[49m\u001b[43m[\u001b[49m\u001b[38;5;241;43m10\u001b[39;49m\u001b[43m]\u001b[49m)\n\u001b[0;32m      6\u001b[0m \u001b[38;5;28mprint\u001b[39m(label_text)\n\u001b[0;32m      7\u001b[0m draw_rectangle(img,rect)\n",
      "\u001b[1;31mIndexError\u001b[0m: tuple index out of range"
     ]
    }
   ],
   "source": [
    "test_img=cv2.imread(r'D:\\DL_Projects\\face_recognition\\messi.jpg')\n",
    "predicted=predict_new(test_img)\n",
    "cv2.imshow(\"IMAGE\",predicted)\n",
    "cv2.waitKey()\n",
    "cv2.destoyAllWindows()\n"
   ]
  }
 ],
 "metadata": {
  "kernelspec": {
   "display_name": "Python 3",
   "language": "python",
   "name": "python3"
  },
  "language_info": {
   "codemirror_mode": {
    "name": "ipython",
    "version": 3
   },
   "file_extension": ".py",
   "mimetype": "text/x-python",
   "name": "python",
   "nbconvert_exporter": "python",
   "pygments_lexer": "ipython3",
   "version": "3.9.13"
  }
 },
 "nbformat": 4,
 "nbformat_minor": 2
}
